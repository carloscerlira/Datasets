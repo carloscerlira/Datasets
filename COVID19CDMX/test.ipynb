{
 "metadata": {
  "language_info": {
   "codemirror_mode": {
    "name": "ipython",
    "version": 3
   },
   "file_extension": ".py",
   "mimetype": "text/x-python",
   "name": "python",
   "nbconvert_exporter": "python",
   "pygments_lexer": "ipython3",
   "version": "3.8.3-final"
  },
  "orig_nbformat": 2,
  "kernelspec": {
   "name": "python3",
   "display_name": "Python 3",
   "language": "python"
  }
 },
 "nbformat": 4,
 "nbformat_minor": 2,
 "cells": [
  {
   "cell_type": "code",
   "execution_count": 1,
   "metadata": {},
   "outputs": [],
   "source": [
    "import pandas as pd \n",
    "import numpy as np \n",
    "import matplotlib.pyplot as plt \n",
    "plt.style.use(\"ggplot\")"
   ]
  },
  {
   "cell_type": "code",
   "execution_count": 4,
   "metadata": {
    "tags": []
   },
   "outputs": [],
   "source": [
    "df = pd.read_csv(\"base-covid-sinave.csv\", sep=\";\")"
   ]
  },
  {
   "cell_type": "code",
   "execution_count": 6,
   "metadata": {},
   "outputs": [
    {
     "output_type": "execute_result",
     "data": {
      "text/plain": [
       "(908941, 91)"
      ]
     },
     "metadata": {},
     "execution_count": 6
    }
   ],
   "source": [
    "df.shape"
   ]
  },
  {
   "cell_type": "code",
   "execution_count": 7,
   "metadata": {},
   "outputs": [
    {
     "output_type": "execute_result",
     "data": {
      "text/plain": [
       "          origen sector  cveentuni           entidad            delega  \\\n",
       "0  FUERA DE USMI    SSA          9  CIUDAD DE MEXICO  CIUDAD DE MEXICO   \n",
       "1           USMI    SSA          9  CIUDAD DE MEXICO  CIUDAD DE MEXICO   \n",
       "2  FUERA DE USMI    SSA          9  CIUDAD DE MEXICO  CIUDAD DE MEXICO   \n",
       "3  FUERA DE USMI    SSA          9  CIUDAD DE MEXICO  CIUDAD DE MEXICO   \n",
       "4  FUERA DE USMI   IMSS          9  CIUDAD DE MEXICO  CIUDAD DE MEXICO   \n",
       "\n",
       "                                 unidad     fechreg       sexo  \\\n",
       "0   C.S.T-III DR. RAFAEL RAMIREZ SUAREZ  2020-10-31  MASCULINO   \n",
       "1  HOSPITAL GENERAL DR. ENRIQUE CABRERA  2020-05-30   FEMENINO   \n",
       "2   C.S.T-III DR. RAFAEL RAMIREZ SUAREZ  2020-09-10   FEMENINO   \n",
       "3               C.S.T-III MEXICO-ESPAÑA  2020-12-03   FEMENINO   \n",
       "4              UMF      35 C.7 ZARAGOZA  2020-09-26   FEMENINO   \n",
       "\n",
       "            entresi  cventine  ... diaspuerp  antipireticos  uci  linaje  \\\n",
       "0            MEXICO        15  ...       NaN             NO  NaN     NaN   \n",
       "1            MEXICO        15  ...       NaN             SI  NaN     NaN   \n",
       "2  CIUDAD DE MEXICO         9  ...       NaN             SI  NaN     NaN   \n",
       "3            MEXICO        15  ...       NaN             NO  NaN     NaN   \n",
       "4            MEXICO        15  ...       NaN             SI  NaN     NaN   \n",
       "\n",
       "  viaje1 viaje2 viaje3  viaje4 viaje5 rango_de_edad  \n",
       "0    NaN    NaN    NaN     NaN    NaN         41-50  \n",
       "1    NaN    NaN    NaN     NaN    NaN         21-30  \n",
       "2    NaN    NaN    NaN     NaN    NaN         51-60  \n",
       "3    NaN    NaN    NaN     NaN    NaN         31-40  \n",
       "4    NaN    NaN    NaN     NaN    NaN         61-70  \n",
       "\n",
       "[5 rows x 91 columns]"
      ],
      "text/html": "<div>\n<style scoped>\n    .dataframe tbody tr th:only-of-type {\n        vertical-align: middle;\n    }\n\n    .dataframe tbody tr th {\n        vertical-align: top;\n    }\n\n    .dataframe thead th {\n        text-align: right;\n    }\n</style>\n<table border=\"1\" class=\"dataframe\">\n  <thead>\n    <tr style=\"text-align: right;\">\n      <th></th>\n      <th>origen</th>\n      <th>sector</th>\n      <th>cveentuni</th>\n      <th>entidad</th>\n      <th>delega</th>\n      <th>unidad</th>\n      <th>fechreg</th>\n      <th>sexo</th>\n      <th>entresi</th>\n      <th>cventine</th>\n      <th>...</th>\n      <th>diaspuerp</th>\n      <th>antipireticos</th>\n      <th>uci</th>\n      <th>linaje</th>\n      <th>viaje1</th>\n      <th>viaje2</th>\n      <th>viaje3</th>\n      <th>viaje4</th>\n      <th>viaje5</th>\n      <th>rango_de_edad</th>\n    </tr>\n  </thead>\n  <tbody>\n    <tr>\n      <th>0</th>\n      <td>FUERA DE USMI</td>\n      <td>SSA</td>\n      <td>9</td>\n      <td>CIUDAD DE MEXICO</td>\n      <td>CIUDAD DE MEXICO</td>\n      <td>C.S.T-III DR. RAFAEL RAMIREZ SUAREZ</td>\n      <td>2020-10-31</td>\n      <td>MASCULINO</td>\n      <td>MEXICO</td>\n      <td>15</td>\n      <td>...</td>\n      <td>NaN</td>\n      <td>NO</td>\n      <td>NaN</td>\n      <td>NaN</td>\n      <td>NaN</td>\n      <td>NaN</td>\n      <td>NaN</td>\n      <td>NaN</td>\n      <td>NaN</td>\n      <td>41-50</td>\n    </tr>\n    <tr>\n      <th>1</th>\n      <td>USMI</td>\n      <td>SSA</td>\n      <td>9</td>\n      <td>CIUDAD DE MEXICO</td>\n      <td>CIUDAD DE MEXICO</td>\n      <td>HOSPITAL GENERAL DR. ENRIQUE CABRERA</td>\n      <td>2020-05-30</td>\n      <td>FEMENINO</td>\n      <td>MEXICO</td>\n      <td>15</td>\n      <td>...</td>\n      <td>NaN</td>\n      <td>SI</td>\n      <td>NaN</td>\n      <td>NaN</td>\n      <td>NaN</td>\n      <td>NaN</td>\n      <td>NaN</td>\n      <td>NaN</td>\n      <td>NaN</td>\n      <td>21-30</td>\n    </tr>\n    <tr>\n      <th>2</th>\n      <td>FUERA DE USMI</td>\n      <td>SSA</td>\n      <td>9</td>\n      <td>CIUDAD DE MEXICO</td>\n      <td>CIUDAD DE MEXICO</td>\n      <td>C.S.T-III DR. RAFAEL RAMIREZ SUAREZ</td>\n      <td>2020-09-10</td>\n      <td>FEMENINO</td>\n      <td>CIUDAD DE MEXICO</td>\n      <td>9</td>\n      <td>...</td>\n      <td>NaN</td>\n      <td>SI</td>\n      <td>NaN</td>\n      <td>NaN</td>\n      <td>NaN</td>\n      <td>NaN</td>\n      <td>NaN</td>\n      <td>NaN</td>\n      <td>NaN</td>\n      <td>51-60</td>\n    </tr>\n    <tr>\n      <th>3</th>\n      <td>FUERA DE USMI</td>\n      <td>SSA</td>\n      <td>9</td>\n      <td>CIUDAD DE MEXICO</td>\n      <td>CIUDAD DE MEXICO</td>\n      <td>C.S.T-III MEXICO-ESPAÑA</td>\n      <td>2020-12-03</td>\n      <td>FEMENINO</td>\n      <td>MEXICO</td>\n      <td>15</td>\n      <td>...</td>\n      <td>NaN</td>\n      <td>NO</td>\n      <td>NaN</td>\n      <td>NaN</td>\n      <td>NaN</td>\n      <td>NaN</td>\n      <td>NaN</td>\n      <td>NaN</td>\n      <td>NaN</td>\n      <td>31-40</td>\n    </tr>\n    <tr>\n      <th>4</th>\n      <td>FUERA DE USMI</td>\n      <td>IMSS</td>\n      <td>9</td>\n      <td>CIUDAD DE MEXICO</td>\n      <td>CIUDAD DE MEXICO</td>\n      <td>UMF      35 C.7 ZARAGOZA</td>\n      <td>2020-09-26</td>\n      <td>FEMENINO</td>\n      <td>MEXICO</td>\n      <td>15</td>\n      <td>...</td>\n      <td>NaN</td>\n      <td>SI</td>\n      <td>NaN</td>\n      <td>NaN</td>\n      <td>NaN</td>\n      <td>NaN</td>\n      <td>NaN</td>\n      <td>NaN</td>\n      <td>NaN</td>\n      <td>61-70</td>\n    </tr>\n  </tbody>\n</table>\n<p>5 rows × 91 columns</p>\n</div>"
     },
     "metadata": {},
     "execution_count": 7
    }
   ],
   "source": [
    "df.head()"
   ]
  },
  {
   "cell_type": "code",
   "execution_count": 10,
   "metadata": {},
   "outputs": [],
   "source": [
    "df[-100_000:].to_csv(\"train.csv\")"
   ]
  },
  {
   "cell_type": "code",
   "execution_count": null,
   "metadata": {},
   "outputs": [],
   "source": []
  }
 ]
}